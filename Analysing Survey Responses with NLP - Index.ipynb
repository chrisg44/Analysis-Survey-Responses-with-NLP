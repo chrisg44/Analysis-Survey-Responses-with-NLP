{
 "cells": [
  {
   "cell_type": "markdown",
   "metadata": {},
   "source": [
    "# Coding Examples - Survey Response Analysis"
   ]
  },
  {
   "cell_type": "markdown",
   "metadata": {},
   "source": [
    "This notebook and associated notebooks are intended to provide examples of code a methodologies for implementing various suggested free text survey response analysis features "
   ]
  },
  {
   "cell_type": "markdown",
   "metadata": {},
   "source": [
    "# Contents\n",
    "\n",
    "Some of the components are included in the notebook, others are compartmentalised in other notebooks as they have to run on different Kernels"
   ]
  },
  {
   "cell_type": "markdown",
   "metadata": {},
   "source": [
    "## 1 Key Words / Common Words\n",
    "### Method 1 - Python library NLTK\n",
    "\n",
    "## 2 Word Cloud\n",
    "### Method 1 - Python library WordCloud\n",
    "\n",
    "## 3 Sentiment Analysis\n",
    "### Method 1 - Python library NLTK\n",
    "### Method 2 - Python library Gluon with MXNet backend\n",
    "### Method 3 - Google API Sentiment Analysis\n",
    "### Method 4 - Python library Keras with TensorFlow backend\n",
    "\n",
    "## 4 Topic Analysis\n",
    "### Method 1 - Python library Gensim\n",
    "\n",
    "## 5 Entity Analysis\n",
    "### Method 1 - Python library NLTK\n",
    "### Method 2 - Python library SpaCy\n",
    "### Method 3 - Google API Entity Analysis"
   ]
  },
  {
   "cell_type": "markdown",
   "metadata": {},
   "source": [
    "# Notebook Setup"
   ]
  },
  {
   "cell_type": "code",
   "execution_count": 1,
   "metadata": {},
   "outputs": [],
   "source": [
    "import pandas as pd\n",
    "import numpy as np\n",
    "import matplotlib.pyplot as plt\n",
    "from tqdm import tqdm\n",
    "import seaborn as sns"
   ]
  },
  {
   "cell_type": "markdown",
   "metadata": {},
   "source": [
    "# Obtain\n",
    "Sample dataset is of a survey on \"Women in advertising\"\n",
    "\n",
    "    -Long Form Question - \"How could ads aimed at you be improved?\" - 827 \n",
    "    -Short Form Question - \"Name a brand that really ‘gets you’ when it comes to their advertising.\" - \n",
    "\n",
    "From a total dataset of 1000 respondents.\n",
    "\n",
    "The dataset has been manually labelled to provide comparison as well as to enable trained supervised learning models.\n",
    "\n",
    "0 - Negative, 1 - Positive, 2 - Neutral"
   ]
  },
  {
   "cell_type": "code",
   "execution_count": 71,
   "metadata": {},
   "outputs": [
    {
     "data": {
      "text/html": [
       "<div>\n",
       "<style scoped>\n",
       "    .dataframe tbody tr th:only-of-type {\n",
       "        vertical-align: middle;\n",
       "    }\n",
       "\n",
       "    .dataframe tbody tr th {\n",
       "        vertical-align: top;\n",
       "    }\n",
       "\n",
       "    .dataframe thead th {\n",
       "        text-align: right;\n",
       "    }\n",
       "</style>\n",
       "<table border=\"1\" class=\"dataframe\">\n",
       "  <thead>\n",
       "    <tr style=\"text-align: right;\">\n",
       "      <th></th>\n",
       "      <th>Label</th>\n",
       "      <th>Response</th>\n",
       "    </tr>\n",
       "  </thead>\n",
       "  <tbody>\n",
       "    <tr>\n",
       "      <th>0</th>\n",
       "      <td>2</td>\n",
       "      <td>by using the real day woman that doesn't have ...</td>\n",
       "    </tr>\n",
       "    <tr>\n",
       "      <th>1</th>\n",
       "      <td>2</td>\n",
       "      <td>stop gender stereotyping,  show more women in ...</td>\n",
       "    </tr>\n",
       "    <tr>\n",
       "      <th>2</th>\n",
       "      <td>2</td>\n",
       "      <td>be real without being patronising.</td>\n",
       "    </tr>\n",
       "    <tr>\n",
       "      <th>3</th>\n",
       "      <td>2</td>\n",
       "      <td>don't assume all women fit into defined boxes</td>\n",
       "    </tr>\n",
       "    <tr>\n",
       "      <th>4</th>\n",
       "      <td>2</td>\n",
       "      <td>not sure</td>\n",
       "    </tr>\n",
       "    <tr>\n",
       "      <th>5</th>\n",
       "      <td>2</td>\n",
       "      <td>use models of varied sizes</td>\n",
       "    </tr>\n",
       "    <tr>\n",
       "      <th>6</th>\n",
       "      <td>0</td>\n",
       "      <td>show more real people and not show everyone as...</td>\n",
       "    </tr>\n",
       "    <tr>\n",
       "      <th>7</th>\n",
       "      <td>2</td>\n",
       "      <td>feature bigger women</td>\n",
       "    </tr>\n",
       "    <tr>\n",
       "      <th>8</th>\n",
       "      <td>1</td>\n",
       "      <td>using role models, highlight on women in power</td>\n",
       "    </tr>\n",
       "    <tr>\n",
       "      <th>9</th>\n",
       "      <td>0</td>\n",
       "      <td>use a wide range of models varying in shape an...</td>\n",
       "    </tr>\n",
       "  </tbody>\n",
       "</table>\n",
       "</div>"
      ],
      "text/plain": [
       "   Label                                           Response\n",
       "0      2  by using the real day woman that doesn't have ...\n",
       "1      2  stop gender stereotyping,  show more women in ...\n",
       "2      2                 be real without being patronising.\n",
       "3      2      don't assume all women fit into defined boxes\n",
       "4      2                                           not sure\n",
       "5      2                         use models of varied sizes\n",
       "6      0  show more real people and not show everyone as...\n",
       "7      2                               feature bigger women\n",
       "8      1     using role models, highlight on women in power\n",
       "9      0  use a wide range of models varying in shape an..."
      ]
     },
     "execution_count": 71,
     "metadata": {},
     "output_type": "execute_result"
    }
   ],
   "source": [
    "df = pd.read_csv('raw_data_labelled.csv')\n",
    "df['Response'] = df['How could ads aimed at you be improved?']\n",
    "df = df.drop(['How could ads aimed at you be improved?','0 - Negative'], axis=1)\n",
    "df['Response'] = df['Response'].astype('str')\n",
    "df['Response'] = df['Response'].str.lower()\n",
    "df['Label'] = df[\"Label\"].fillna(0.0).astype(int)\n",
    "df = df.drop(df.index[827:833])\n",
    "df.head(10)"
   ]
  },
  {
   "cell_type": "code",
   "execution_count": 62,
   "metadata": {},
   "outputs": [
    {
     "data": {
      "text/plain": [
       "1    312\n",
       "2    296\n",
       "0    219\n",
       "Name: Label, dtype: int64"
      ]
     },
     "execution_count": 62,
     "metadata": {},
     "output_type": "execute_result"
    }
   ],
   "source": [
    "df['Label'].value_counts()"
   ]
  },
  {
   "cell_type": "markdown",
   "metadata": {},
   "source": [
    "# Data Cleaning & Tokenisation\n",
    "\n",
    "This section will take the imported data and split it into tokens"
   ]
  },
  {
   "cell_type": "code",
   "execution_count": 2,
   "metadata": {},
   "outputs": [],
   "source": [
    "import nltk\n",
    "from nltk.tokenize import word_tokenize\n",
    "from nltk.probability import FreqDist\n",
    "from nltk.corpus import stopwords\n",
    "from string import punctuation\n",
    "from nltk.stem.wordnet import WordNetLemmatizer\n",
    "from nltk.stem.porter import PorterStemmer\n",
    "from nltk.tokenize import TweetTokenizer"
   ]
  },
  {
   "cell_type": "code",
   "execution_count": 3,
   "metadata": {},
   "outputs": [
    {
     "name": "stderr",
     "output_type": "stream",
     "text": [
      "[nltk_data] Downloading package punkt to\n",
      "[nltk_data]     C:\\Users\\chris\\AppData\\Roaming\\nltk_data...\n",
      "[nltk_data]   Package punkt is already up-to-date!\n",
      "[nltk_data] Downloading package stopwords to\n",
      "[nltk_data]     C:\\Users\\chris\\AppData\\Roaming\\nltk_data...\n",
      "[nltk_data]   Package stopwords is already up-to-date!\n",
      "[nltk_data] Downloading package wordnet to\n",
      "[nltk_data]     C:\\Users\\chris\\AppData\\Roaming\\nltk_data...\n",
      "[nltk_data]   Package wordnet is already up-to-date!\n"
     ]
    },
    {
     "data": {
      "text/plain": [
       "True"
      ]
     },
     "execution_count": 3,
     "metadata": {},
     "output_type": "execute_result"
    }
   ],
   "source": [
    "nltk.download('punkt')\n",
    "nltk.download('stopwords')\n",
    "nltk.download('wordnet')"
   ]
  },
  {
   "cell_type": "code",
   "execution_count": 63,
   "metadata": {},
   "outputs": [
    {
     "data": {
      "text/html": [
       "<div>\n",
       "<style scoped>\n",
       "    .dataframe tbody tr th:only-of-type {\n",
       "        vertical-align: middle;\n",
       "    }\n",
       "\n",
       "    .dataframe tbody tr th {\n",
       "        vertical-align: top;\n",
       "    }\n",
       "\n",
       "    .dataframe thead th {\n",
       "        text-align: right;\n",
       "    }\n",
       "</style>\n",
       "<table border=\"1\" class=\"dataframe\">\n",
       "  <thead>\n",
       "    <tr style=\"text-align: right;\">\n",
       "      <th></th>\n",
       "      <th>Label</th>\n",
       "      <th>Response</th>\n",
       "    </tr>\n",
       "  </thead>\n",
       "  <tbody>\n",
       "    <tr>\n",
       "      <th>0</th>\n",
       "      <td>2</td>\n",
       "      <td>by using the real day woman that doesn't have ...</td>\n",
       "    </tr>\n",
       "    <tr>\n",
       "      <th>1</th>\n",
       "      <td>2</td>\n",
       "      <td>stop gender stereotyping,  show more women in ...</td>\n",
       "    </tr>\n",
       "    <tr>\n",
       "      <th>2</th>\n",
       "      <td>2</td>\n",
       "      <td>be real without being patronising.</td>\n",
       "    </tr>\n",
       "    <tr>\n",
       "      <th>3</th>\n",
       "      <td>2</td>\n",
       "      <td>don't assume all women fit into defined boxes</td>\n",
       "    </tr>\n",
       "    <tr>\n",
       "      <th>4</th>\n",
       "      <td>2</td>\n",
       "      <td>not sure</td>\n",
       "    </tr>\n",
       "  </tbody>\n",
       "</table>\n",
       "</div>"
      ],
      "text/plain": [
       "   Label                                           Response\n",
       "0      2  by using the real day woman that doesn't have ...\n",
       "1      2  stop gender stereotyping,  show more women in ...\n",
       "2      2                 be real without being patronising.\n",
       "3      2      don't assume all women fit into defined boxes\n",
       "4      2                                           not sure"
      ]
     },
     "execution_count": 63,
     "metadata": {},
     "output_type": "execute_result"
    }
   ],
   "source": [
    "df.head()"
   ]
  },
  {
   "cell_type": "code",
   "execution_count": 72,
   "metadata": {},
   "outputs": [],
   "source": [
    "tokenized_word=word_tokenize(df['Response'][0])"
   ]
  },
  {
   "cell_type": "code",
   "execution_count": 73,
   "metadata": {},
   "outputs": [
    {
     "name": "stderr",
     "output_type": "stream",
     "text": [
      "  0%|                                                                                                                                                                                                               | 0/827 [00:00<?, ?it/s]C:\\Users\\chris\\AppData\\Local\\Continuum\\anaconda3\\envs\\nlp_env\\lib\\site-packages\\ipykernel_launcher.py:3: SettingWithCopyWarning: \n",
      "A value is trying to be set on a copy of a slice from a DataFrame\n",
      "\n",
      "See the caveats in the documentation: http://pandas.pydata.org/pandas-docs/stable/indexing.html#indexing-view-versus-copy\n",
      "  This is separate from the ipykernel package so we can avoid doing imports until\n",
      "100%|███████████████████████████████████████████████████████████████████████████████████████████████████████████████████████████████████████████████████████████████████████████████████████████████████| 827/827 [00:00<00:00, 1318.93it/s]\n"
     ]
    }
   ],
   "source": [
    "df['Tokens'] = 0\n",
    "for i in tqdm(range(len(df['Response']))):\n",
    "    df['Tokens'][i] = word_tokenize(df['Response'][i])"
   ]
  },
  {
   "cell_type": "code",
   "execution_count": 74,
   "metadata": {},
   "outputs": [],
   "source": [
    "list_tokens = df['Tokens'].str.join(',')"
   ]
  },
  {
   "cell_type": "code",
   "execution_count": 75,
   "metadata": {},
   "outputs": [],
   "source": [
    "full_words = \" \".join(response for response in df.Response)"
   ]
  },
  {
   "cell_type": "code",
   "execution_count": 77,
   "metadata": {},
   "outputs": [],
   "source": [
    "full_tokens = word_tokenize(full_words)"
   ]
  },
  {
   "cell_type": "code",
   "execution_count": 78,
   "metadata": {},
   "outputs": [
    {
     "data": {
      "text/plain": [
       "['by',\n",
       " 'using',\n",
       " 'the',\n",
       " 'real',\n",
       " 'day',\n",
       " 'woman',\n",
       " 'that',\n",
       " 'does',\n",
       " \"n't\",\n",
       " 'have',\n",
       " 'perfect',\n",
       " 'figure',\n",
       " 'hair',\n",
       " 'and',\n",
       " 'skin',\n",
       " 'stop',\n",
       " 'gender',\n",
       " 'stereotyping',\n",
       " ',',\n",
       " 'show']"
      ]
     },
     "execution_count": 78,
     "metadata": {},
     "output_type": "execute_result"
    }
   ],
   "source": [
    "full_tokens[:20]"
   ]
  },
  {
   "cell_type": "markdown",
   "metadata": {},
   "source": [
    "## 1 Key Words / Common Words\n",
    "### Method 1 - Python library NLTK"
   ]
  },
  {
   "cell_type": "code",
   "execution_count": 79,
   "metadata": {},
   "outputs": [
    {
     "data": {
      "text/plain": [
       "[('women', 371),\n",
       " ('more', 323),\n",
       " ('and', 275),\n",
       " ('.', 266),\n",
       " (',', 211),\n",
       " ('not', 203),\n",
       " ('of', 180),\n",
       " ('to', 160),\n",
       " ('be', 151),\n",
       " ('the', 136)]"
      ]
     },
     "execution_count": 79,
     "metadata": {},
     "output_type": "execute_result"
    }
   ],
   "source": [
    "fdist = FreqDist(full_tokens)\n",
    "fdist.most_common(10)"
   ]
  },
  {
   "cell_type": "code",
   "execution_count": 80,
   "metadata": {},
   "outputs": [],
   "source": [
    "punctuation =[char for char in punctuation]"
   ]
  },
  {
   "cell_type": "code",
   "execution_count": 81,
   "metadata": {},
   "outputs": [],
   "source": [
    "stop_words=set(stopwords.words(\"english\"))"
   ]
  },
  {
   "cell_type": "code",
   "execution_count": 82,
   "metadata": {},
   "outputs": [],
   "source": [
    "filtered_tokens=[]\n",
    "for w in full_tokens:\n",
    "    if w not in stop_words:\n",
    "        if w not in punctuation:\n",
    "            filtered_tokens.append(w)"
   ]
  },
  {
   "cell_type": "code",
   "execution_count": 83,
   "metadata": {},
   "outputs": [
    {
     "data": {
      "text/plain": [
       "[('women', 371),\n",
       " ('real', 90),\n",
       " (\"n't\", 82),\n",
       " ('less', 78),\n",
       " ('realistic', 75),\n",
       " ('models', 70),\n",
       " ('use', 66),\n",
       " ('show', 59),\n",
       " ('woman', 53),\n",
       " ('people', 53)]"
      ]
     },
     "execution_count": 83,
     "metadata": {},
     "output_type": "execute_result"
    }
   ],
   "source": [
    "fdist = FreqDist(filtered_tokens)\n",
    "fdist.most_common(10)"
   ]
  },
  {
   "cell_type": "markdown",
   "metadata": {},
   "source": [
    "There are a number of issues with the above Tokenisation - most obviously the seperation of \"n't\"; there are a number of mechanisms to improve on this. One option is to uses a tokeniser optimsed for more casual language as likely used in a survey response."
   ]
  },
  {
   "cell_type": "code",
   "execution_count": 84,
   "metadata": {},
   "outputs": [],
   "source": [
    "casual_tokeniser = TweetTokenizer()\n",
    "full_token_casual = casual_tokeniser.tokenize(full_words)\n",
    "full_token_casual_clean = []\n",
    "for w in full_token_casual:\n",
    "    if w not in stop_words:\n",
    "        if w not in punctuation:\n",
    "            full_token_casual_clean.append(w)"
   ]
  },
  {
   "cell_type": "code",
   "execution_count": 85,
   "metadata": {
    "scrolled": true
   },
   "outputs": [
    {
     "data": {
      "text/plain": [
       "[('women', 370),\n",
       " ('real', 93),\n",
       " ('less', 78),\n",
       " ('realistic', 76),\n",
       " ('models', 70),\n",
       " ('use', 66),\n",
       " ('show', 59),\n",
       " ('people', 53),\n",
       " ('woman', 52),\n",
       " ('different', 52)]"
      ]
     },
     "execution_count": 85,
     "metadata": {},
     "output_type": "execute_result"
    }
   ],
   "source": [
    "fdist = FreqDist(full_token_casual_clean)\n",
    "comparison = fdist.most_common(10)\n",
    "fdist.most_common(10)"
   ]
  },
  {
   "cell_type": "markdown",
   "metadata": {},
   "source": [
    "### Lemmatisation and Stemming\n",
    "Two mechanisms for reducing more complex word forms to their base component (the Stem or the Lemma). Work through different mechanisms and have pros and cons dependent on the scenario."
   ]
  },
  {
   "cell_type": "code",
   "execution_count": 86,
   "metadata": {},
   "outputs": [],
   "source": [
    "lem = WordNetLemmatizer()\n",
    "stem = PorterStemmer()"
   ]
  },
  {
   "cell_type": "code",
   "execution_count": 87,
   "metadata": {},
   "outputs": [
    {
     "data": {
      "text/plain": [
       "[('women', 370),\n",
       " ('size', 122),\n",
       " ('use', 113),\n",
       " ('real', 93),\n",
       " ('show', 89),\n",
       " ('model', 83),\n",
       " ('less', 78),\n",
       " ('realistic', 76),\n",
       " ('body', 62),\n",
       " ('make', 57)]"
      ]
     },
     "execution_count": 87,
     "metadata": {},
     "output_type": "execute_result"
    }
   ],
   "source": [
    "full_lem = []\n",
    "for i in full_token_casual_clean:\n",
    "    full_lem.append(lem.lemmatize(i,\"v\"))\n",
    "\n",
    "full_lem_clean = []\n",
    "for w in full_lem:\n",
    "    if w not in stop_words:\n",
    "        if w not in punctuation:\n",
    "            full_lem_clean.append(w)\n",
    "\n",
    "fdist = FreqDist(full_lem_clean)\n",
    "comparison.append(fdist.most_common(10))\n",
    "fdist.most_common(10)"
   ]
  },
  {
   "cell_type": "code",
   "execution_count": 88,
   "metadata": {
    "scrolled": true
   },
   "outputs": [
    {
     "data": {
      "text/plain": [
       "[('women', 370),\n",
       " ('real', 93),\n",
       " ('less', 78),\n",
       " ('realistic', 76),\n",
       " ('models', 70),\n",
       " ('use', 66),\n",
       " ('show', 59),\n",
       " ('people', 53),\n",
       " ('woman', 52),\n",
       " ('different', 52)]"
      ]
     },
     "execution_count": 88,
     "metadata": {},
     "output_type": "execute_result"
    }
   ],
   "source": [
    "full_stem = []\n",
    "for i in full_token_casual_clean:\n",
    "    full_stem.append(i)\n",
    "    \n",
    "full_stem_clean = []\n",
    "for w in full_stem:\n",
    "    if w not in stop_words:\n",
    "        if w not in punctuation:\n",
    "            full_stem_clean.append(w)\n",
    "\n",
    "fdist = FreqDist(full_stem_clean)\n",
    "comparison.append(fdist.most_common(10))\n",
    "fdist.most_common(10)"
   ]
  },
  {
   "cell_type": "markdown",
   "metadata": {},
   "source": [
    "Now that the tokeniser has been optimised the best tokens are added to the main DataFrame."
   ]
  },
  {
   "cell_type": "code",
   "execution_count": 89,
   "metadata": {},
   "outputs": [
    {
     "name": "stderr",
     "output_type": "stream",
     "text": [
      "C:\\Users\\chris\\AppData\\Local\\Continuum\\anaconda3\\envs\\nlp_env\\lib\\site-packages\\ipykernel_launcher.py:9: SettingWithCopyWarning: \n",
      "A value is trying to be set on a copy of a slice from a DataFrame\n",
      "\n",
      "See the caveats in the documentation: http://pandas.pydata.org/pandas-docs/stable/indexing.html#indexing-view-versus-copy\n",
      "  if __name__ == '__main__':\n"
     ]
    }
   ],
   "source": [
    "df['Tokens'] = 0\n",
    "for i in range(len(df['Response'])):\n",
    "    temp_token = casual_tokeniser.tokenize(df['Response'][i])\n",
    "    temp_clean = []\n",
    "    for w in temp_token:\n",
    "        if w not in stop_words:\n",
    "            if w not in punctuation:\n",
    "                temp_clean.append(w)\n",
    "    df['Tokens'][i] = temp_clean"
   ]
  },
  {
   "cell_type": "code",
   "execution_count": 90,
   "metadata": {},
   "outputs": [
    {
     "data": {
      "text/html": [
       "<div>\n",
       "<style scoped>\n",
       "    .dataframe tbody tr th:only-of-type {\n",
       "        vertical-align: middle;\n",
       "    }\n",
       "\n",
       "    .dataframe tbody tr th {\n",
       "        vertical-align: top;\n",
       "    }\n",
       "\n",
       "    .dataframe thead th {\n",
       "        text-align: right;\n",
       "    }\n",
       "</style>\n",
       "<table border=\"1\" class=\"dataframe\">\n",
       "  <thead>\n",
       "    <tr style=\"text-align: right;\">\n",
       "      <th></th>\n",
       "      <th>Label</th>\n",
       "      <th>Response</th>\n",
       "      <th>Tokens</th>\n",
       "    </tr>\n",
       "  </thead>\n",
       "  <tbody>\n",
       "    <tr>\n",
       "      <th>0</th>\n",
       "      <td>2</td>\n",
       "      <td>by using the real day woman that doesn't have ...</td>\n",
       "      <td>[using, real, day, woman, perfect, figure, hai...</td>\n",
       "    </tr>\n",
       "    <tr>\n",
       "      <th>1</th>\n",
       "      <td>2</td>\n",
       "      <td>stop gender stereotyping,  show more women in ...</td>\n",
       "      <td>[stop, gender, stereotyping, show, women, posi...</td>\n",
       "    </tr>\n",
       "    <tr>\n",
       "      <th>2</th>\n",
       "      <td>2</td>\n",
       "      <td>be real without being patronising.</td>\n",
       "      <td>[real, without, patronising]</td>\n",
       "    </tr>\n",
       "    <tr>\n",
       "      <th>3</th>\n",
       "      <td>2</td>\n",
       "      <td>don't assume all women fit into defined boxes</td>\n",
       "      <td>[assume, women, fit, defined, boxes]</td>\n",
       "    </tr>\n",
       "    <tr>\n",
       "      <th>4</th>\n",
       "      <td>2</td>\n",
       "      <td>not sure</td>\n",
       "      <td>[sure]</td>\n",
       "    </tr>\n",
       "  </tbody>\n",
       "</table>\n",
       "</div>"
      ],
      "text/plain": [
       "   Label                                           Response  \\\n",
       "0      2  by using the real day woman that doesn't have ...   \n",
       "1      2  stop gender stereotyping,  show more women in ...   \n",
       "2      2                 be real without being patronising.   \n",
       "3      2      don't assume all women fit into defined boxes   \n",
       "4      2                                           not sure   \n",
       "\n",
       "                                              Tokens  \n",
       "0  [using, real, day, woman, perfect, figure, hai...  \n",
       "1  [stop, gender, stereotyping, show, women, posi...  \n",
       "2                       [real, without, patronising]  \n",
       "3               [assume, women, fit, defined, boxes]  \n",
       "4                                             [sure]  "
      ]
     },
     "execution_count": 90,
     "metadata": {},
     "output_type": "execute_result"
    }
   ],
   "source": [
    "df.head()"
   ]
  },
  {
   "cell_type": "markdown",
   "metadata": {},
   "source": [
    "# Word Cloud\n",
    "## Method 1 - Python library WordCloud"
   ]
  },
  {
   "cell_type": "code",
   "execution_count": 91,
   "metadata": {},
   "outputs": [],
   "source": [
    "from wordcloud import WordCloud, STOPWORDS, ImageColorGenerator"
   ]
  },
  {
   "cell_type": "code",
   "execution_count": 92,
   "metadata": {},
   "outputs": [],
   "source": [
    "wordcloud = WordCloud(max_words=100, background_color=\"white\").generate(full_words)"
   ]
  },
  {
   "cell_type": "code",
   "execution_count": 93,
   "metadata": {},
   "outputs": [
    {
     "data": {
      "image/png": "[encoded data removed]",
      "text/plain": [
       "<Figure size 720x576 with 1 Axes>"
      ]
     },
     "metadata": {
      "needs_background": "light"
     },
     "output_type": "display_data"
    }
   ],
   "source": [
    "plt.figure(figsize=(10,8))\n",
    "plt.imshow(wordcloud, interpolation='bilinear')\n",
    "plt.axis(\"off\")\n",
    "plt.show()"
   ]
  },
  {
   "cell_type": "code",
   "execution_count": 94,
   "metadata": {},
   "outputs": [
    {
     "data": {
      "text/plain": [
       "<wordcloud.wordcloud.WordCloud at 0x2566d9fd9b0>"
      ]
     },
     "execution_count": 94,
     "metadata": {},
     "output_type": "execute_result"
    }
   ],
   "source": [
    "# Save the image to file\n",
    "wordcloud.to_file(\"word_cloud.png\")"
   ]
  },
  {
   "cell_type": "markdown",
   "metadata": {},
   "source": [
    "# 3 Sentiment Analysis\n",
    "## Method 1 - Python library NLTK"
   ]
  },
  {
   "cell_type": "code",
   "execution_count": 95,
   "metadata": {},
   "outputs": [],
   "source": [
    "from nltk.sentiment.vader import SentimentIntensityAnalyzer"
   ]
  },
  {
   "cell_type": "code",
   "execution_count": 96,
   "metadata": {},
   "outputs": [
    {
     "name": "stderr",
     "output_type": "stream",
     "text": [
      "[nltk_data] Downloading package vader_lexicon to\n",
      "[nltk_data]     C:\\Users\\chris\\AppData\\Roaming\\nltk_data...\n",
      "[nltk_data]   Package vader_lexicon is already up-to-date!\n"
     ]
    },
    {
     "data": {
      "text/plain": [
       "True"
      ]
     },
     "execution_count": 96,
     "metadata": {},
     "output_type": "execute_result"
    }
   ],
   "source": [
    "nltk.download('vader_lexicon')"
   ]
  },
  {
   "cell_type": "code",
   "execution_count": 97,
   "metadata": {},
   "outputs": [],
   "source": [
    "nltk_sentiment = SentimentIntensityAnalyzer()\n",
    "score = nltk_sentiment.polarity_scores(df['Response'][0])"
   ]
  },
  {
   "cell_type": "code",
   "execution_count": 98,
   "metadata": {},
   "outputs": [
    {
     "name": "stderr",
     "output_type": "stream",
     "text": [
      "100%|███████████████████████████████████████████████████████████████████████████████████████████████████████████████████████████████████████████████████████████████████████████████████████████████████| 827/827 [00:00<00:00, 3426.75it/s]\n"
     ]
    }
   ],
   "source": [
    "nltk_sentiment_scores = []\n",
    "for i in tqdm(range(len(df['Response']))):\n",
    "    temp = nltk_sentiment.polarity_scores(df['Response'][i])\n",
    "    nltk_sentiment_scores.append(temp['compound'])"
   ]
  },
  {
   "cell_type": "code",
   "execution_count": 99,
   "metadata": {},
   "outputs": [
    {
     "data": {
      "text/html": [
       "<div>\n",
       "<style scoped>\n",
       "    .dataframe tbody tr th:only-of-type {\n",
       "        vertical-align: middle;\n",
       "    }\n",
       "\n",
       "    .dataframe tbody tr th {\n",
       "        vertical-align: top;\n",
       "    }\n",
       "\n",
       "    .dataframe thead th {\n",
       "        text-align: right;\n",
       "    }\n",
       "</style>\n",
       "<table border=\"1\" class=\"dataframe\">\n",
       "  <thead>\n",
       "    <tr style=\"text-align: right;\">\n",
       "      <th></th>\n",
       "      <th>Label</th>\n",
       "      <th>Response</th>\n",
       "      <th>Tokens</th>\n",
       "    </tr>\n",
       "  </thead>\n",
       "  <tbody>\n",
       "    <tr>\n",
       "      <th>0</th>\n",
       "      <td>2</td>\n",
       "      <td>by using the real day woman that doesn't have ...</td>\n",
       "      <td>[using, real, day, woman, perfect, figure, hai...</td>\n",
       "    </tr>\n",
       "    <tr>\n",
       "      <th>1</th>\n",
       "      <td>2</td>\n",
       "      <td>stop gender stereotyping,  show more women in ...</td>\n",
       "      <td>[stop, gender, stereotyping, show, women, posi...</td>\n",
       "    </tr>\n",
       "    <tr>\n",
       "      <th>2</th>\n",
       "      <td>2</td>\n",
       "      <td>be real without being patronising.</td>\n",
       "      <td>[real, without, patronising]</td>\n",
       "    </tr>\n",
       "    <tr>\n",
       "      <th>3</th>\n",
       "      <td>2</td>\n",
       "      <td>don't assume all women fit into defined boxes</td>\n",
       "      <td>[assume, women, fit, defined, boxes]</td>\n",
       "    </tr>\n",
       "    <tr>\n",
       "      <th>4</th>\n",
       "      <td>2</td>\n",
       "      <td>not sure</td>\n",
       "      <td>[sure]</td>\n",
       "    </tr>\n",
       "  </tbody>\n",
       "</table>\n",
       "</div>"
      ],
      "text/plain": [
       "   Label                                           Response  \\\n",
       "0      2  by using the real day woman that doesn't have ...   \n",
       "1      2  stop gender stereotyping,  show more women in ...   \n",
       "2      2                 be real without being patronising.   \n",
       "3      2      don't assume all women fit into defined boxes   \n",
       "4      2                                           not sure   \n",
       "\n",
       "                                              Tokens  \n",
       "0  [using, real, day, woman, perfect, figure, hai...  \n",
       "1  [stop, gender, stereotyping, show, women, posi...  \n",
       "2                       [real, without, patronising]  \n",
       "3               [assume, women, fit, defined, boxes]  \n",
       "4                                             [sure]  "
      ]
     },
     "execution_count": 99,
     "metadata": {},
     "output_type": "execute_result"
    }
   ],
   "source": [
    "df.head()"
   ]
  },
  {
   "cell_type": "code",
   "execution_count": 100,
   "metadata": {},
   "outputs": [
    {
     "data": {
      "image/png": "[encoded data removed]",
      "text/plain": [
       "<Figure size 432x288 with 1 Axes>"
      ]
     },
     "metadata": {
      "needs_background": "light"
     },
     "output_type": "display_data"
    }
   ],
   "source": [
    "sns.distplot(nltk_sentiment_scores)\n",
    "plt.xlabel('Sentiment Resultant Score')\n",
    "plt.show()"
   ]
  },
  {
   "cell_type": "code",
   "execution_count": 103,
   "metadata": {},
   "outputs": [
    {
     "name": "stderr",
     "output_type": "stream",
     "text": [
      "  0%|                                                                                                                                                                                                               | 0/827 [00:00<?, ?it/s]C:\\Users\\chris\\AppData\\Local\\Continuum\\anaconda3\\envs\\nlp_env\\lib\\site-packages\\ipykernel_launcher.py:3: SettingWithCopyWarning: \n",
      "A value is trying to be set on a copy of a slice from a DataFrame\n",
      "\n",
      "See the caveats in the documentation: http://pandas.pydata.org/pandas-docs/stable/indexing.html#indexing-view-versus-copy\n",
      "  This is separate from the ipykernel package so we can avoid doing imports until\n",
      "100%|█████████████████████████████████████████████████████████████████████████████████████████████████████████████████████████████████████████████████████████████████████████████████████████████████████| 827/827 [02:38<00:00,  3.87it/s]\n"
     ]
    }
   ],
   "source": [
    "df['Word_count'] = 0\n",
    "for i in tqdm(range(len(df['Response']))):\n",
    "    df['Word_count'][i] = len(df['Tokens'][i])\n",
    "    "
   ]
  },
  {
   "cell_type": "code",
   "execution_count": 113,
   "metadata": {},
   "outputs": [
    {
     "name": "stderr",
     "output_type": "stream",
     "text": [
      "100%|███████████████████████████████████████████████████████████████████████████████████████████████████████████████████████████████████████████████████████████████████████████████████████████████████| 827/827 [00:00<00:00, 3434.03it/s]\n"
     ]
    }
   ],
   "source": [
    "nltk_sentiment_compound = []\n",
    "nltk_sentiment_neg = []\n",
    "nltk_sentiment_pos = []\n",
    "nltk_sentiment_neu = []\n",
    "for i in tqdm(range(len(df['Response']))):\n",
    "    temp = nltk_sentiment.polarity_scores(df['Response'][i])\n",
    "    nltk_sentiment_compound.append(temp['compound'])\n",
    "    nltk_sentiment_neg.append(temp['neg'])\n",
    "    nltk_sentiment_pos.append(temp['pos'])\n",
    "    nltk_sentiment_neu.append(temp['neu'])"
   ]
  },
  {
   "cell_type": "code",
   "execution_count": 115,
   "metadata": {},
   "outputs": [],
   "source": [
    "df['nltk_sentiment_compound']=nltk_sentiment_compound\n",
    "df['nltk_sentiment_neg'] = nltk_sentiment_neg\n",
    "df['nltk_sentiment_pos'] = nltk_sentiment_pos\n",
    "df['nltk_sentiment_neu'] = nltk_sentiment_neu"
   ]
  },
  {
   "cell_type": "code",
   "execution_count": 105,
   "metadata": {},
   "outputs": [
    {
     "data": {
      "text/plain": [
       "{'neg': 0.187, 'neu': 0.813, 'pos': 0.0, 'compound': -0.4585}"
      ]
     },
     "execution_count": 105,
     "metadata": {},
     "output_type": "execute_result"
    }
   ],
   "source": [
    "score"
   ]
  },
  {
   "cell_type": "code",
   "execution_count": 106,
   "metadata": {},
   "outputs": [
    {
     "data": {
      "image/png": "[encoded data removed]",
      "text/plain": [
       "<Figure size 432x288 with 1 Axes>"
      ]
     },
     "metadata": {
      "needs_background": "light"
     },
     "output_type": "display_data"
    }
   ],
   "source": [
    "sns.distplot(nltk_sentiment_negs)\n",
    "plt.xlabel('Negative Score')\n",
    "plt.show()"
   ]
  },
  {
   "cell_type": "code",
   "execution_count": 116,
   "metadata": {},
   "outputs": [
    {
     "data": {
      "text/html": [
       "<div>\n",
       "<style scoped>\n",
       "    .dataframe tbody tr th:only-of-type {\n",
       "        vertical-align: middle;\n",
       "    }\n",
       "\n",
       "    .dataframe tbody tr th {\n",
       "        vertical-align: top;\n",
       "    }\n",
       "\n",
       "    .dataframe thead th {\n",
       "        text-align: right;\n",
       "    }\n",
       "</style>\n",
       "<table border=\"1\" class=\"dataframe\">\n",
       "  <thead>\n",
       "    <tr style=\"text-align: right;\">\n",
       "      <th></th>\n",
       "      <th>Label</th>\n",
       "      <th>Response</th>\n",
       "      <th>Tokens</th>\n",
       "      <th>Word_count</th>\n",
       "      <th>nltk_sentiment_compound</th>\n",
       "      <th>nltk_sentiment_neg</th>\n",
       "      <th>nltk_sentiment_pos</th>\n",
       "      <th>nltk_sentiment_neu</th>\n",
       "    </tr>\n",
       "  </thead>\n",
       "  <tbody>\n",
       "    <tr>\n",
       "      <th>0</th>\n",
       "      <td>2</td>\n",
       "      <td>by using the real day woman that doesn't have ...</td>\n",
       "      <td>[using, real, day, woman, perfect, figure, hai...</td>\n",
       "      <td>8</td>\n",
       "      <td>-0.4585</td>\n",
       "      <td>0.187</td>\n",
       "      <td>0.000</td>\n",
       "      <td>0.813</td>\n",
       "    </tr>\n",
       "    <tr>\n",
       "      <th>1</th>\n",
       "      <td>2</td>\n",
       "      <td>stop gender stereotyping,  show more women in ...</td>\n",
       "      <td>[stop, gender, stereotyping, show, women, posi...</td>\n",
       "      <td>34</td>\n",
       "      <td>-0.6741</td>\n",
       "      <td>0.152</td>\n",
       "      <td>0.072</td>\n",
       "      <td>0.775</td>\n",
       "    </tr>\n",
       "    <tr>\n",
       "      <th>2</th>\n",
       "      <td>2</td>\n",
       "      <td>be real without being patronising.</td>\n",
       "      <td>[real, without, patronising]</td>\n",
       "      <td>3</td>\n",
       "      <td>0.0000</td>\n",
       "      <td>0.000</td>\n",
       "      <td>0.000</td>\n",
       "      <td>1.000</td>\n",
       "    </tr>\n",
       "    <tr>\n",
       "      <th>3</th>\n",
       "      <td>2</td>\n",
       "      <td>don't assume all women fit into defined boxes</td>\n",
       "      <td>[assume, women, fit, defined, boxes]</td>\n",
       "      <td>5</td>\n",
       "      <td>0.3612</td>\n",
       "      <td>0.000</td>\n",
       "      <td>0.263</td>\n",
       "      <td>0.737</td>\n",
       "    </tr>\n",
       "    <tr>\n",
       "      <th>4</th>\n",
       "      <td>2</td>\n",
       "      <td>not sure</td>\n",
       "      <td>[sure]</td>\n",
       "      <td>1</td>\n",
       "      <td>-0.2411</td>\n",
       "      <td>0.662</td>\n",
       "      <td>0.000</td>\n",
       "      <td>0.338</td>\n",
       "    </tr>\n",
       "  </tbody>\n",
       "</table>\n",
       "</div>"
      ],
      "text/plain": [
       "   Label                                           Response  \\\n",
       "0      2  by using the real day woman that doesn't have ...   \n",
       "1      2  stop gender stereotyping,  show more women in ...   \n",
       "2      2                 be real without being patronising.   \n",
       "3      2      don't assume all women fit into defined boxes   \n",
       "4      2                                           not sure   \n",
       "\n",
       "                                              Tokens  Word_count  \\\n",
       "0  [using, real, day, woman, perfect, figure, hai...           8   \n",
       "1  [stop, gender, stereotyping, show, women, posi...          34   \n",
       "2                       [real, without, patronising]           3   \n",
       "3               [assume, women, fit, defined, boxes]           5   \n",
       "4                                             [sure]           1   \n",
       "\n",
       "   nltk_sentiment_compound  nltk_sentiment_neg  nltk_sentiment_pos  \\\n",
       "0                  -0.4585               0.187               0.000   \n",
       "1                  -0.6741               0.152               0.072   \n",
       "2                   0.0000               0.000               0.000   \n",
       "3                   0.3612               0.000               0.263   \n",
       "4                  -0.2411               0.662               0.000   \n",
       "\n",
       "   nltk_sentiment_neu  \n",
       "0               0.813  \n",
       "1               0.775  \n",
       "2               1.000  \n",
       "3               0.737  \n",
       "4               0.338  "
      ]
     },
     "execution_count": 116,
     "metadata": {},
     "output_type": "execute_result"
    }
   ],
   "source": [
    "df.head()"
   ]
  },
  {
   "cell_type": "markdown",
   "metadata": {},
   "source": [
    "## Method 2 - Python library Gluon with MXNet backend\n",
    "\n",
    "Please see Notebook - Python library Gluon with MXNet backend"
   ]
  },
  {
   "cell_type": "markdown",
   "metadata": {},
   "source": [
    "## Method 3 - Google API Sentiment Analysis"
   ]
  },
  {
   "cell_type": "code",
   "execution_count": 46,
   "metadata": {},
   "outputs": [],
   "source": [
    "from google.cloud import language\n",
    "from google.cloud.language import enums\n",
    "from google.cloud.language import types"
   ]
  },
  {
   "cell_type": "code",
   "execution_count": 107,
   "metadata": {},
   "outputs": [],
   "source": [
    "#Setup\n",
    "\n",
    "path = '/Users/chris/OneDrive/flatiron/own_work/attest/google_credentials.json' \n",
    "client = language.LanguageServiceClient.from_service_account_json(path)"
   ]
  },
  {
   "cell_type": "code",
   "execution_count": 108,
   "metadata": {},
   "outputs": [],
   "source": [
    "def google_sentiment(input):\n",
    "    document = language.types.Document(\n",
    "            content=input,\n",
    "            type=language.enums.Document.Type.PLAIN_TEXT)\n",
    "    annotations = client.analyze_sentiment(document=document)\n",
    "    score = annotations.document_sentiment.score\n",
    "    magnitude = annotations.document_sentiment.magnitude\n",
    "    return score, magnitude"
   ]
  },
  {
   "cell_type": "code",
   "execution_count": 121,
   "metadata": {},
   "outputs": [
    {
     "name": "stderr",
     "output_type": "stream",
     "text": [
      "100%|█████████████████████████████████████████████████████████████████████████████████████████████████████████████████████████████████████████████████████████████████████████████████████████████████████| 827/827 [05:46<00:00,  2.72it/s]\n"
     ]
    }
   ],
   "source": [
    "google_score = []\n",
    "google_magnitude = []\n",
    "for i in tqdm(range(len(df['Response']))):\n",
    "    google_score.append(google_sentiment(df['Response'][i])[0])\n",
    "    google_magnitude.append(google_sentiment(df['Response'][i])[1])"
   ]
  },
  {
   "cell_type": "code",
   "execution_count": 140,
   "metadata": {},
   "outputs": [],
   "source": [
    "google_sentiment_df = pd.DataFrame({'google_score':google_score, 'google_magnitude':google_magnitude})"
   ]
  },
  {
   "cell_type": "code",
   "execution_count": 141,
   "metadata": {
    "scrolled": true
   },
   "outputs": [
    {
     "data": {
      "text/html": [
       "<div>\n",
       "<style scoped>\n",
       "    .dataframe tbody tr th:only-of-type {\n",
       "        vertical-align: middle;\n",
       "    }\n",
       "\n",
       "    .dataframe tbody tr th {\n",
       "        vertical-align: top;\n",
       "    }\n",
       "\n",
       "    .dataframe thead th {\n",
       "        text-align: right;\n",
       "    }\n",
       "</style>\n",
       "<table border=\"1\" class=\"dataframe\">\n",
       "  <thead>\n",
       "    <tr style=\"text-align: right;\">\n",
       "      <th></th>\n",
       "      <th>google_score</th>\n",
       "      <th>google_magnitude</th>\n",
       "    </tr>\n",
       "  </thead>\n",
       "  <tbody>\n",
       "    <tr>\n",
       "      <th>0</th>\n",
       "      <td>-0.2</td>\n",
       "      <td>0.2</td>\n",
       "    </tr>\n",
       "    <tr>\n",
       "      <th>1</th>\n",
       "      <td>-0.7</td>\n",
       "      <td>1.4</td>\n",
       "    </tr>\n",
       "    <tr>\n",
       "      <th>2</th>\n",
       "      <td>-0.3</td>\n",
       "      <td>0.3</td>\n",
       "    </tr>\n",
       "    <tr>\n",
       "      <th>3</th>\n",
       "      <td>0.0</td>\n",
       "      <td>0.0</td>\n",
       "    </tr>\n",
       "    <tr>\n",
       "      <th>4</th>\n",
       "      <td>0.0</td>\n",
       "      <td>0.0</td>\n",
       "    </tr>\n",
       "  </tbody>\n",
       "</table>\n",
       "</div>"
      ],
      "text/plain": [
       "   google_score  google_magnitude\n",
       "0          -0.2               0.2\n",
       "1          -0.7               1.4\n",
       "2          -0.3               0.3\n",
       "3           0.0               0.0\n",
       "4           0.0               0.0"
      ]
     },
     "execution_count": 141,
     "metadata": {},
     "output_type": "execute_result"
    }
   ],
   "source": [
    "google_sentiment_df.head()"
   ]
  },
  {
   "cell_type": "code",
   "execution_count": 142,
   "metadata": {},
   "outputs": [],
   "source": [
    "google_sentiment_df.to_csv('google_sentiment_df.csv')"
   ]
  },
  {
   "cell_type": "code",
   "execution_count": 143,
   "metadata": {},
   "outputs": [],
   "source": [
    "df['google_score'] = google_score\n",
    "df['google_magnitude'] = google_magnitude"
   ]
  },
  {
   "cell_type": "markdown",
   "metadata": {},
   "source": [
    "## Method 4 - Python library Keras with TensorFlow backend\n",
    "\n",
    "Please see Sentiment Analysis - Python library Keras with TensorFlow backend"
   ]
  },
  {
   "cell_type": "markdown",
   "metadata": {},
   "source": [
    "# 4 Topic Analysis\n",
    "## Method 1 - Python library Gensim\n",
    "\n",
    "Please see Topic Analysis - Python library Gensim"
   ]
  },
  {
   "cell_type": "markdown",
   "metadata": {},
   "source": [
    "# 5 Entity Analysis"
   ]
  },
  {
   "cell_type": "markdown",
   "metadata": {},
   "source": [
    "## Method 1 - Python library NLTK\n",
    "\n",
    "Please see Entity Analysis - Python library SpaCy"
   ]
  },
  {
   "cell_type": "markdown",
   "metadata": {},
   "source": [
    "## Method 2 - Python library SpaCy\n",
    "\n",
    "Please see Entity Analysis - Python library SpaCy"
   ]
  },
  {
   "cell_type": "markdown",
   "metadata": {},
   "source": [
    "## Method 3 - Google API Entity Analysis"
   ]
  },
  {
   "cell_type": "code",
   "execution_count": 145,
   "metadata": {},
   "outputs": [],
   "source": [
    "import six\n",
    "from google.cloud import language\n",
    "from google.cloud.language import enums\n",
    "from google.cloud.language import types"
   ]
  },
  {
   "cell_type": "markdown",
   "metadata": {},
   "source": [
    "### Example"
   ]
  },
  {
   "cell_type": "code",
   "execution_count": 146,
   "metadata": {},
   "outputs": [
    {
     "name": "stdout",
     "output_type": "stream",
     "text": [
      "====================\n",
      "name            : Heathrow\n",
      "type            : LOCATION\n",
      "salience        : 0.5222665667533875\n",
      "wikipedia_url   : https://en.wikipedia.org/wiki/Heathrow_Airport\n",
      "mid             : /m/03jn4\n",
      "====================\n",
      "name            : Acton\n",
      "type            : LOCATION\n",
      "salience        : 0.37869492173194885\n",
      "wikipedia_url   : https://en.wikipedia.org/wiki/Acton,_London\n",
      "mid             : /m/0n8rm\n",
      "====================\n",
      "name            : London\n",
      "type            : LOCATION\n",
      "salience        : 0.0990385040640831\n",
      "wikipedia_url   : https://en.wikipedia.org/wiki/London\n",
      "mid             : /m/04jpl\n"
     ]
    }
   ],
   "source": [
    "text = 'Acton is in London, Heathrow is a place nearby.'\n",
    "\n",
    "if isinstance(text, six.binary_type):\n",
    "    text = text.decode('utf-8')\n",
    "\n",
    "# Instantiates a plain text document.\n",
    "document = types.Document(\n",
    "    content=text,\n",
    "    type=enums.Document.Type.PLAIN_TEXT)\n",
    "\n",
    "# Detects entities in the document. You can also analyze HTML with:\n",
    "#   document.type == enums.Document.Type.HTML\n",
    "entities = client.analyze_entities(document).entities\n",
    "\n",
    "for entity in entities:\n",
    "    entity_type = enums.Entity.Type(entity.type)\n",
    "    print('=' * 20)\n",
    "    print(u'{:<16}: {}'.format('name', entity.name))\n",
    "    print(u'{:<16}: {}'.format('type', entity_type.name))\n",
    "    print(u'{:<16}: {}'.format('salience', entity.salience))\n",
    "    print(u'{:<16}: {}'.format('wikipedia_url',\n",
    "          entity.metadata.get('wikipedia_url', '-')))\n",
    "    print(u'{:<16}: {}'.format('mid', entity.metadata.get('mid', '-')))"
   ]
  },
  {
   "cell_type": "markdown",
   "metadata": {},
   "source": [
    "Function definition of the API call"
   ]
  },
  {
   "cell_type": "code",
   "execution_count": 147,
   "metadata": {},
   "outputs": [],
   "source": [
    "def google_entity(text):\n",
    "    if isinstance(text, six.binary_type):\n",
    "        text = text.decode('utf-8')\n",
    "    document = types.Document(\n",
    "        content=text,\n",
    "        type=enums.Document.Type.PLAIN_TEXT)\n",
    "    entities = client.analyze_entities(document).entities\n",
    "    output = []\n",
    "    for entity in entities:\n",
    "        entity_type = enums.Entity.Type(entity.type)\n",
    "        ent_name = entity.name\n",
    "        ent_type = entity_type.name\n",
    "        ent_salience = round(entity.salience,4)\n",
    "        ent_url = entity.metadata.get('wikipedia_url', '-')\n",
    "        ent_mid = entity.metadata.get('mid', '-')\n",
    "        output.append({'ent_name':ent_name,'ent_type':ent_type,\n",
    "                       'ent_salience':ent_salience,'ent_url':ent_url,'ent_mid':ent_mid})\n",
    "    return output"
   ]
  },
  {
   "cell_type": "code",
   "execution_count": 163,
   "metadata": {},
   "outputs": [
    {
     "name": "stderr",
     "output_type": "stream",
     "text": [
      "100%|███████████████████████████████████████████████████████████████████████████████████████████████████████████████████████████████████████| 5/5 [00:03<00:00,  1.31it/s]\n"
     ]
    }
   ],
   "source": [
    "entities_test = []\n",
    "for i in tqdm(range(5)):\n",
    "    entities_test.append(google_entity(df['Response'][i]))"
   ]
  },
  {
   "cell_type": "markdown",
   "metadata": {},
   "source": [
    "To demonstrate the entity analysis the second dataset will be used; the responses to the question \"Name a brand that really ‘gets you’ when it comes to their advertising.\""
   ]
  },
  {
   "cell_type": "code",
   "execution_count": 149,
   "metadata": {},
   "outputs": [],
   "source": [
    "df2 = pd.read_csv('raw_data_short_text.csv', usecols=['Name a brand that really ‘gets you’ when it comes to their advertising.'])\n",
    "df2['Response'] = df2['Name a brand that really ‘gets you’ when it comes to their advertising.']\n",
    "df2 = df2.drop(['Name a brand that really ‘gets you’ when it comes to their advertising.'], axis=1)"
   ]
  },
  {
   "cell_type": "code",
   "execution_count": 150,
   "metadata": {
    "scrolled": true
   },
   "outputs": [
    {
     "data": {
      "text/html": [
       "<div>\n",
       "<style scoped>\n",
       "    .dataframe tbody tr th:only-of-type {\n",
       "        vertical-align: middle;\n",
       "    }\n",
       "\n",
       "    .dataframe tbody tr th {\n",
       "        vertical-align: top;\n",
       "    }\n",
       "\n",
       "    .dataframe thead th {\n",
       "        text-align: right;\n",
       "    }\n",
       "</style>\n",
       "<table border=\"1\" class=\"dataframe\">\n",
       "  <thead>\n",
       "    <tr style=\"text-align: right;\">\n",
       "      <th></th>\n",
       "      <th>Response</th>\n",
       "    </tr>\n",
       "  </thead>\n",
       "  <tbody>\n",
       "    <tr>\n",
       "      <th>0</th>\n",
       "      <td>There isn't one</td>\n",
       "    </tr>\n",
       "    <tr>\n",
       "      <th>1</th>\n",
       "      <td>Clarks shoes</td>\n",
       "    </tr>\n",
       "    <tr>\n",
       "      <th>2</th>\n",
       "      <td>Not sure</td>\n",
       "    </tr>\n",
       "    <tr>\n",
       "      <th>3</th>\n",
       "      <td>None</td>\n",
       "    </tr>\n",
       "    <tr>\n",
       "      <th>4</th>\n",
       "      <td>None</td>\n",
       "    </tr>\n",
       "  </tbody>\n",
       "</table>\n",
       "</div>"
      ],
      "text/plain": [
       "          Response\n",
       "0  There isn't one\n",
       "1     Clarks shoes\n",
       "2         Not sure\n",
       "3             None\n",
       "4             None"
      ]
     },
     "execution_count": 150,
     "metadata": {},
     "output_type": "execute_result"
    }
   ],
   "source": [
    "df2.head(5)"
   ]
  },
  {
   "cell_type": "markdown",
   "metadata": {},
   "source": [
    "The simplest entity analysis to a specific question such as this is a simple value count of the responses; however there are a number of shortcomings principally that any response with more than one entity, or a mispelling will be only counted once and therefore the real totals are likely to be higher."
   ]
  },
  {
   "cell_type": "code",
   "execution_count": 151,
   "metadata": {},
   "outputs": [
    {
     "data": {
      "text/plain": [
       "Dove       74\n",
       "Nike       34\n",
       "None       31\n",
       "Always     24\n",
       "Next       18\n",
       "L'Oréal    14\n",
       "Sure       13\n",
       "M&S        12\n",
       "Nivea      12\n",
       "Loreal     12\n",
       "Name: Response, dtype: int64"
      ]
     },
     "execution_count": 151,
     "metadata": {},
     "output_type": "execute_result"
    }
   ],
   "source": [
    "df2['Response'].value_counts()[:10]"
   ]
  },
  {
   "cell_type": "code",
   "execution_count": 186,
   "metadata": {},
   "outputs": [],
   "source": [
    "df2 = df2.astype('str')"
   ]
  },
  {
   "cell_type": "markdown",
   "metadata": {},
   "source": [
    "To improve on this the Google Entity API will be called, the code below will call the API for all the responses to the survey. The additional code here is to save this response from the API to a csv file. This is so that the set of API calls is only run once, and the responses can be retrieved locally."
   ]
  },
  {
   "cell_type": "code",
   "execution_count": 189,
   "metadata": {},
   "outputs": [
    {
     "name": "stderr",
     "output_type": "stream",
     "text": [
      "100%|███████████████████████████████████████████████████████████████████████████████████████████████████████████████████████████████████| 852/852 [02:59<00:00,  6.73it/s]\n"
     ]
    }
   ],
   "source": [
    "entities = []\n",
    "for i in tqdm(range(len(df2['Response']))):\n",
    "    entities.append(google_entity(df2['Response'][i]))"
   ]
  },
  {
   "cell_type": "code",
   "execution_count": 200,
   "metadata": {},
   "outputs": [],
   "source": [
    "empty = np.zeros(len(entities))\n",
    "entities_df = pd.DataFrame(empty)\n",
    "entities_df['Entities'] = entities\n",
    "entities_df = entities_df.drop(0,axis=1)\n",
    "entities_df.to_csv('short_text_entities.csv')"
   ]
  },
  {
   "cell_type": "code",
   "execution_count": 203,
   "metadata": {},
   "outputs": [
    {
     "data": {
      "text/html": [
       "<div>\n",
       "<style scoped>\n",
       "    .dataframe tbody tr th:only-of-type {\n",
       "        vertical-align: middle;\n",
       "    }\n",
       "\n",
       "    .dataframe tbody tr th {\n",
       "        vertical-align: top;\n",
       "    }\n",
       "\n",
       "    .dataframe thead th {\n",
       "        text-align: right;\n",
       "    }\n",
       "</style>\n",
       "<table border=\"1\" class=\"dataframe\">\n",
       "  <thead>\n",
       "    <tr style=\"text-align: right;\">\n",
       "      <th></th>\n",
       "      <th>Entities</th>\n",
       "    </tr>\n",
       "  </thead>\n",
       "  <tbody>\n",
       "    <tr>\n",
       "      <th>0</th>\n",
       "      <td>[{'ent_name': 'one', 'ent_type': 'NUMBER', 'en...</td>\n",
       "    </tr>\n",
       "    <tr>\n",
       "      <th>1</th>\n",
       "      <td>[{'ent_name': 'Clarks', 'ent_type': 'ORGANIZAT...</td>\n",
       "    </tr>\n",
       "    <tr>\n",
       "      <th>2</th>\n",
       "      <td>[]</td>\n",
       "    </tr>\n",
       "    <tr>\n",
       "      <th>3</th>\n",
       "      <td>[{'ent_name': 'None', 'ent_type': 'OTHER', 'en...</td>\n",
       "    </tr>\n",
       "    <tr>\n",
       "      <th>4</th>\n",
       "      <td>[{'ent_name': 'None', 'ent_type': 'OTHER', 'en...</td>\n",
       "    </tr>\n",
       "  </tbody>\n",
       "</table>\n",
       "</div>"
      ],
      "text/plain": [
       "                                            Entities\n",
       "0  [{'ent_name': 'one', 'ent_type': 'NUMBER', 'en...\n",
       "1  [{'ent_name': 'Clarks', 'ent_type': 'ORGANIZAT...\n",
       "2                                                 []\n",
       "3  [{'ent_name': 'None', 'ent_type': 'OTHER', 'en...\n",
       "4  [{'ent_name': 'None', 'ent_type': 'OTHER', 'en..."
      ]
     },
     "execution_count": 203,
     "metadata": {},
     "output_type": "execute_result"
    }
   ],
   "source": [
    "entities_df2 = pd.read_csv('short_text_entities.csv', index_col = 'Unnamed: 0')\n",
    "entities_df2.head()"
   ]
  },
  {
   "cell_type": "code",
   "execution_count": 208,
   "metadata": {},
   "outputs": [
    {
     "name": "stderr",
     "output_type": "stream",
     "text": [
      "100%|███████████████████████████████████████████████████████████████████████████████████████████████████████████████████████████████| 852/852 [00:00<00:00, 169700.21it/s]\n"
     ]
    }
   ],
   "source": [
    "company_name = []\n",
    "company_url = []\n",
    "for i in tqdm(range(len(entities))):\n",
    "    for j in range(len(entities[i])):\n",
    "            if entities[i][j]['ent_type'] == 'ORGANIZATION':\n",
    "                company_name.append(entities[i][j]['ent_name'])\n",
    "                company_url.append(entities[i][j]['ent_url'])\n",
    "            if entities[i][j]['ent_url'] != '-':\n",
    "                company_name.append(entities[i][j]['ent_name'])\n",
    "                company_url.append(entities[i][j]['ent_url'])"
   ]
  },
  {
   "cell_type": "markdown",
   "metadata": {},
   "source": [
    "This is the list of the top 10 companies by number of reponses."
   ]
  },
  {
   "cell_type": "code",
   "execution_count": 217,
   "metadata": {},
   "outputs": [
    {
     "data": {
      "text/plain": [
       "Dove       76\n",
       "Nike       74\n",
       "L'Oréal    32\n",
       "M&S        28\n",
       "Nivea      28\n",
       "Loreal     24\n",
       "Adidas     20\n",
       "Apple      18\n",
       "Tampax     16\n",
       "Garnier    14\n",
       "Name: 0, dtype: int64"
      ]
     },
     "execution_count": 217,
     "metadata": {},
     "output_type": "execute_result"
    }
   ],
   "source": [
    "company_name[0].value_counts()[:10]"
   ]
  },
  {
   "cell_type": "markdown",
   "metadata": {},
   "source": [
    "The API entity response has for more useful information included such at the companies Wikipedia URL"
   ]
  },
  {
   "cell_type": "code",
   "execution_count": 222,
   "metadata": {},
   "outputs": [
    {
     "data": {
      "text/plain": [
       "{'ent_name': 'Clarks',\n",
       " 'ent_type': 'ORGANIZATION',\n",
       " 'ent_salience': 0.6528,\n",
       " 'ent_url': 'https://en.wikipedia.org/wiki/C._&_J._Clark',\n",
       " 'ent_mid': '/m/04d1sr'}"
      ]
     },
     "execution_count": 222,
     "metadata": {},
     "output_type": "execute_result"
    }
   ],
   "source": [
    "entities[1][0]"
   ]
  },
  {
   "cell_type": "code",
   "execution_count": null,
   "metadata": {},
   "outputs": [],
   "source": []
  }
 ],
 "metadata": {
  "kernelspec": {
   "display_name": "nlp_env",
   "language": "python",
   "name": "nlp_env"
  },
  "language_info": {
   "codemirror_mode": {
    "name": "ipython",
    "version": 3
   },
   "file_extension": ".py",
   "mimetype": "text/x-python",
   "name": "python",
   "nbconvert_exporter": "python",
   "pygments_lexer": "ipython3",
   "version": "3.7.3"
  }
 },
 "nbformat": 4,
 "nbformat_minor": 2
}
